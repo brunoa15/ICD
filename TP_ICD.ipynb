{
 "cells": [
  {
   "cell_type": "code",
   "execution_count": 1,
   "metadata": {
    "colab": {},
    "colab_type": "code",
    "id": "UzROr6eUNimK"
   },
   "outputs": [],
   "source": [
    "import numpy as np\n",
    "import pandas as pd\n",
    "pd.options.mode.chained_assignment = None\n",
    "\n",
    "import matplotlib.pyplot as plt\n",
    "plt.style.use('seaborn-colorblind')\n",
    "plt.ion()\n",
    "\n",
    "from sklearn.model_selection import train_test_split\n",
    "from sklearn.linear_model import LinearRegression\n",
    "from sklearn.metrics import mean_squared_error as mse\n",
    "from sklearn.neighbors import KNeighborsClassifier\n",
    "from sklearn.metrics import classification_report\n",
    "from sklearn.metrics import precision_recall_fscore_support\n",
    "from sklearn.metrics import confusion_matrix"
   ]
  },
  {
   "cell_type": "markdown",
   "metadata": {
    "colab_type": "text",
    "id": "uiGpEkmCUb2S"
   },
   "source": [
    "# Introdução\n",
    "Neste trabalho, realizamos um estudo sobre uma base de dados dos Jogos Olímpicos Rio 2016 com o intuito de verificar, por meio de técnicas  de ciência dos dados, se existem correlações socioeconômicas e relacionadas à idade dos atletas que interfiram no desempenho durante os jogos. Como medida de desempenho utilizamos a quantidade de medalhas ganhas por atleta/país. Com isso, foram propostas três perguntas a serem respondidas mediante a análise dos dados:\n",
    "1. Existe uma relação entre o PIB de um país e a quantidade de medalhas ganhas?\n",
    "2. Países com maior PIB tendem a se sair melhor em esportes individuais?\n",
    "3. A idade de um atleta influencia na performance em esportes de alto rendimento?\n",
    "\n"
   ]
  },
  {
   "cell_type": "markdown",
   "metadata": {
    "colab_type": "text",
    "id": "or2K__JSgFgA"
   },
   "source": [
    "# Metodologia\n",
    "\n",
    "Na pergunta um, que relaciona o desempenho de um país nos jogos olímpicos com o seu índice de desenvolvimento (gdp), aplicamos uma regressão linear para verificar se o modelo segue um padrão que nos permita concluir se realmente existe uma relação.\n",
    "\n",
    "Na pergunta dois,  Aplicamos dois testes de hipótese considerando no primeiro caso:\n",
    "* H0 (hipótese nula): Um PIB elevado leva a um melhor desempenho em **pelo menos um** dos esportes individuais mais de 50% das vezes.\n",
    "* H1 (hipótese alternativa): Não é possivel inferir uma relação entre PIB e desempenho em esportes individuais.\n",
    "\n",
    "No segundo caso consideramos:\n",
    "* H0 (hipótese nula): Um PIB elevado leva a um melhor desempenho em **pelo menos metade** dos esportes individuais que o país participa mais de 50% das vezes.\n",
    "* H1 (hipótese alternativa): Não é possivel inferir uma relação entre PIB e desempenho em esportes individuais.\n",
    "\n",
    "Na pergunta três, utlizamos o kNN para classificar os atletas, que foram medalhistas, em três clusters: Ouro, Prata e Bronze, considerando a melhor medalha que o atleta recebeu. Utilizamos como variáveis preditoras a idade e o número de medalhas ganhas por atleta."
   ]
  },
  {
   "cell_type": "markdown",
   "metadata": {
    "colab_type": "text",
    "id": "zyZQy0RfZYHi"
   },
   "source": [
    "# Caracterização Inicial dos Dados\n",
    "\n",
    "A base de dados utilizada foir retirada do Kaggle e está disponível em: https://www.kaggle.com/rio2016/olympic-games#events.csv. Ela contém 3 tabelas: athletes, countries e events. \n",
    "* A tabela **athletes** possui informações da quantidade de medalhas de ouro, prata e bronze ganhas por atleta, sua data de nascimento, gênero, nacionalidade entre outras informações não muito relevantes para o trabalho.\n",
    "* A tabela **countries** possui informações dos países : sua população e o GDP per capita (gross domestic product ou produto interno bruto).\n",
    "* A tabela **events** possui informações sobre cada evento realizado durante os jogos olímpicos, bem como o tipo de esporte praticado, a modalidade específica do esporte e a categoria em relação ao sexo.\n",
    "\n",
    "Além disso, fizemos uma tabela auxiliar chamada **sports** contendo o nome de todos os esportes realizados nos jogoso olímpicos e sua classificação em individual ou em grupo. Foi necessário a criação dessa tabela extra para responder à pergunta número 2.\n",
    "\n",
    "<p>A seguir, mostramos um resumo do dataframe gerado a partir destas tabelas, utilizando apenas os campos úteis para responder as perguntas propostas e removendo as linhas que continham inconsistências."
   ]
  },
  {
   "cell_type": "code",
   "execution_count": 2,
   "metadata": {
    "colab": {},
    "colab_type": "code",
    "id": "UDoxtwB0P0v5"
   },
   "outputs": [],
   "source": [
    "athletes = pd.read_csv('./dataset/athletes.csv')\n",
    "countries = pd.read_csv('./dataset/countries.csv')\n",
    "sports = pd.read_csv('./dataset/sports.csv')\n",
    "\n",
    "# Criado um dataframe com a juncao das tabelas de esporte, atletas e paises\n",
    "df = athletes[['nationality' , 'sex', 'dob', 'sport' , 'gold' , 'silver' , 'bronze' ]].join(sports.set_index('sport'), on='sport').join(countries.set_index('code'), on='nationality')\n",
    "df = df.dropna()"
   ]
  },
  {
   "cell_type": "code",
   "execution_count": 3,
   "metadata": {
    "colab": {
     "base_uri": "https://localhost:8080/",
     "height": 204
    },
    "colab_type": "code",
    "id": "7ZdmZBs3_7MX",
    "outputId": "cddc4881-ab1e-4d0a-dad0-375a14b500ae"
   },
   "outputs": [
    {
     "data": {
      "text/html": [
       "<div>\n",
       "<style scoped>\n",
       "    .dataframe tbody tr th:only-of-type {\n",
       "        vertical-align: middle;\n",
       "    }\n",
       "\n",
       "    .dataframe tbody tr th {\n",
       "        vertical-align: top;\n",
       "    }\n",
       "\n",
       "    .dataframe thead th {\n",
       "        text-align: right;\n",
       "    }\n",
       "</style>\n",
       "<table border=\"1\" class=\"dataframe\">\n",
       "  <thead>\n",
       "    <tr style=\"text-align: right;\">\n",
       "      <th></th>\n",
       "      <th>nationality</th>\n",
       "      <th>sex</th>\n",
       "      <th>dob</th>\n",
       "      <th>sport</th>\n",
       "      <th>gold</th>\n",
       "      <th>silver</th>\n",
       "      <th>bronze</th>\n",
       "      <th>single</th>\n",
       "      <th>group</th>\n",
       "      <th>country</th>\n",
       "      <th>population</th>\n",
       "      <th>gdp_per_capita</th>\n",
       "      <th>age</th>\n",
       "    </tr>\n",
       "  </thead>\n",
       "  <tbody>\n",
       "    <tr>\n",
       "      <th>0</th>\n",
       "      <td>ESP</td>\n",
       "      <td>male</td>\n",
       "      <td>10/17/69</td>\n",
       "      <td>athletics</td>\n",
       "      <td>0</td>\n",
       "      <td>0</td>\n",
       "      <td>0</td>\n",
       "      <td>1</td>\n",
       "      <td>1</td>\n",
       "      <td>Spain</td>\n",
       "      <td>46418269.0</td>\n",
       "      <td>25831.582305</td>\n",
       "      <td>47.0</td>\n",
       "    </tr>\n",
       "    <tr>\n",
       "      <th>1</th>\n",
       "      <td>KOR</td>\n",
       "      <td>female</td>\n",
       "      <td>9/23/86</td>\n",
       "      <td>fencing</td>\n",
       "      <td>0</td>\n",
       "      <td>0</td>\n",
       "      <td>0</td>\n",
       "      <td>1</td>\n",
       "      <td>0</td>\n",
       "      <td>Korea, South</td>\n",
       "      <td>50617045.0</td>\n",
       "      <td>27221.524051</td>\n",
       "      <td>30.0</td>\n",
       "    </tr>\n",
       "    <tr>\n",
       "      <th>2</th>\n",
       "      <td>CAN</td>\n",
       "      <td>male</td>\n",
       "      <td>5/27/92</td>\n",
       "      <td>athletics</td>\n",
       "      <td>0</td>\n",
       "      <td>0</td>\n",
       "      <td>1</td>\n",
       "      <td>1</td>\n",
       "      <td>1</td>\n",
       "      <td>Canada</td>\n",
       "      <td>35851774.0</td>\n",
       "      <td>43248.529909</td>\n",
       "      <td>24.0</td>\n",
       "    </tr>\n",
       "    <tr>\n",
       "      <th>3</th>\n",
       "      <td>MDA</td>\n",
       "      <td>male</td>\n",
       "      <td>1/2/91</td>\n",
       "      <td>taekwondo</td>\n",
       "      <td>0</td>\n",
       "      <td>0</td>\n",
       "      <td>0</td>\n",
       "      <td>1</td>\n",
       "      <td>0</td>\n",
       "      <td>Moldova</td>\n",
       "      <td>3554150.0</td>\n",
       "      <td>1848.061804</td>\n",
       "      <td>25.0</td>\n",
       "    </tr>\n",
       "    <tr>\n",
       "      <th>4</th>\n",
       "      <td>NZL</td>\n",
       "      <td>male</td>\n",
       "      <td>11/26/90</td>\n",
       "      <td>cycling</td>\n",
       "      <td>0</td>\n",
       "      <td>0</td>\n",
       "      <td>0</td>\n",
       "      <td>1</td>\n",
       "      <td>0</td>\n",
       "      <td>New Zealand</td>\n",
       "      <td>4595700.0</td>\n",
       "      <td>37807.967276</td>\n",
       "      <td>26.0</td>\n",
       "    </tr>\n",
       "  </tbody>\n",
       "</table>\n",
       "</div>"
      ],
      "text/plain": [
       "  nationality     sex       dob      sport  gold  silver  bronze  single  \\\n",
       "0         ESP    male  10/17/69  athletics     0       0       0       1   \n",
       "1         KOR  female   9/23/86    fencing     0       0       0       1   \n",
       "2         CAN    male   5/27/92  athletics     0       0       1       1   \n",
       "3         MDA    male    1/2/91  taekwondo     0       0       0       1   \n",
       "4         NZL    male  11/26/90    cycling     0       0       0       1   \n",
       "\n",
       "   group       country  population  gdp_per_capita   age  \n",
       "0      1         Spain  46418269.0    25831.582305  47.0  \n",
       "1      0  Korea, South  50617045.0    27221.524051  30.0  \n",
       "2      1        Canada  35851774.0    43248.529909  24.0  \n",
       "3      0       Moldova   3554150.0     1848.061804  25.0  \n",
       "4      0   New Zealand   4595700.0    37807.967276  26.0  "
      ]
     },
     "execution_count": 3,
     "metadata": {},
     "output_type": "execute_result"
    }
   ],
   "source": [
    "# Calcula a idade do atleta baseando somento no ano do nascimento (nao consideramos necessario a idade exata).\n",
    "\n",
    "date = np.array(df['dob'])\n",
    "years = np.zeros(len(date))\n",
    "\n",
    "for i in range(len(date)):\n",
    "    birth = int(date[i].split('/')[2])\n",
    "    \n",
    "    if birth <= 16:\n",
    "        years[i] = birth + 2000\n",
    "    else:\n",
    "        years[i] = birth + 1900\n",
    "        \n",
    "age = 2016 - years\n",
    "df['age'] = age\n",
    "\n",
    "df.head()"
   ]
  },
  {
   "cell_type": "markdown",
   "metadata": {
    "colab_type": "text",
    "id": "qyaB3XUlPhky"
   },
   "source": [
    "Para melhor visualização do dataset vamos observar os gráficos abaixo:"
   ]
  },
  {
   "cell_type": "code",
   "execution_count": 4,
   "metadata": {
    "colab": {
     "base_uri": "https://localhost:8080/",
     "height": 859
    },
    "colab_type": "code",
    "id": "kzFUssEV1nKQ",
    "outputId": "68096f22-7f72-4419-e333-a46dd9e99f03"
   },
   "outputs": [
    {
     "data": {
      "image/png": "[encoded data removed]",
      "text/plain": [
       "<Figure size 432x288 with 1 Axes>"
      ]
     },
     "metadata": {
      "needs_background": "light"
     },
     "output_type": "display_data"
    },
    {
     "data": {
      "image/png": "[encoded data removed]",
      "text/plain": [
       "<Figure size 432x288 with 1 Axes>"
      ]
     },
     "metadata": {
      "needs_background": "light"
     },
     "output_type": "display_data"
    },
    {
     "data": {
      "image/png": "[encoded data removed]",
      "text/plain": [
       "<Figure size 432x288 with 1 Axes>"
      ]
     },
     "metadata": {
      "needs_background": "light"
     },
     "output_type": "display_data"
    },
    {
     "name": "stdout",
     "output_type": "stream",
     "text": [
      "Atletas do sexo feminino:  4866\n",
      "Atletas do sexo masculino:  5855\n"
     ]
    }
   ],
   "source": [
    "plt.hist(df.groupby('country').mean()['gdp_per_capita'], bins=35, edgecolor='k')\n",
    "plt.xlabel('GDP Per Capita')\n",
    "plt.show()\n",
    "\n",
    "plt.hist(df['age'], bins=15, edgecolor='k')\n",
    "plt.xlabel('Distribuiçao das idades')\n",
    "plt.show()\n",
    "\n",
    "df['sex'].value_counts().plot('bar', color=['blue', 'orange'], edgecolor='k')\n",
    "plt.show()\n",
    "\n",
    "print('Atletas do sexo feminino: ', len(df[df['sex'] == 'female']))\n",
    "print('Atletas do sexo masculino: ', len(df[df['sex'] == 'male']))"
   ]
  },
  {
   "cell_type": "markdown",
   "metadata": {
    "colab_type": "text",
    "id": "YtOyAQMT3OPL"
   },
   "source": [
    "Podemos perceber pelo primeiro histograma que a maioria dos países participantes dos jogos olímpicos, estão em uma faixa de PIB (gdp) menos elevado. Esse fato já era esperado, pois as grandes potências mundiais não são maioria.\n",
    "\n",
    "No segundo histograma vemos que a idade dos atletas está geralmente centrada entre 20 e 30 anos. Uma informação interessante e útil para análise.\n",
    "\n",
    "Outro ponto interessante é a relação entre homens e mulheres nos jogos. O total de atletas do sexo masculino (54%) é levemente superior ao de atletas do sexo feminino (46%)."
   ]
  },
  {
   "cell_type": "code",
   "execution_count": 5,
   "metadata": {
    "colab": {
     "base_uri": "https://localhost:8080/",
     "height": 300
    },
    "colab_type": "code",
    "id": "0x7STMBI3iGQ",
    "outputId": "15a5d486-6d80-4e83-9b2a-4eaf88995f04"
   },
   "outputs": [
    {
     "data": {
      "text/plain": [
       "Text(0, 0.5, 'Quantidade total de medalhas ganhas')"
      ]
     },
     "execution_count": 5,
     "metadata": {},
     "output_type": "execute_result"
    },
    {
     "data": {
      "image/png": "[encoded data removed]",
      "text/plain": [
       "<Figure size 432x288 with 1 Axes>"
      ]
     },
     "metadata": {
      "needs_background": "light"
     },
     "output_type": "display_data"
    }
   ],
   "source": [
    "#Para realizar a outra análise somamos a quantidade de medalha de ouro, prata e bronze na variável qtt_medals, considerando ouro =3; prata = 2; bronze = 1\n",
    "df2 = df.copy()\n",
    "df2['qtt_medals'] = df['gold']*3 + df['silver']*2 + df['bronze']*1\n",
    "#Agora agrupamos e apagamos as linhas que possuem dados nulos \n",
    "df2 = df2.groupby(['country' , 'gdp_per_capita'])['qtt_medals'].sum().reset_index()\n",
    "df2 = df2.dropna()\n",
    "\n",
    "x = df2['gdp_per_capita'].values\n",
    "y = df2['qtt_medals'].values\n",
    "\n",
    "plt.scatter(x, y, alpha=0.6, edgecolors='k', s=30)\n",
    "plt.xlabel('Gdp per capita')\n",
    "plt.ylabel('Quantidade total de medalhas ganhas')"
   ]
  },
  {
   "cell_type": "markdown",
   "metadata": {
    "colab_type": "text",
    "id": "G3JpSqVk-tcp"
   },
   "source": [
    "Observa-se que o gráfico acima não é muito conclusivo. É possível ver alguns países com PIB elevado que ganharam poucas medalhas, da mesma forma, existem países de PIB baixo que ganharam mais medalhas. De forma geral, o índice de medalhas costuma ficar próximo de 0, sendo necessária uma análise melhor para chegarmos em alguma conclusão."
   ]
  },
  {
   "cell_type": "markdown",
   "metadata": {
    "colab_type": "text",
    "id": "OJYQcbHzNJuU"
   },
   "source": [
    "# Resultados"
   ]
  },
  {
   "cell_type": "markdown",
   "metadata": {
    "colab_type": "text",
    "id": "0hCof11qG6AC"
   },
   "source": [
    "## 1. Existe uma relação entre o PIB de um país e a quantidade de medalhas ganhas?\n",
    "### Regressão Linear\n",
    "Para tentar responder essa pergunta vamos, primeiramente, modelar uma regressão linear simples, utilizando o PIB para prever a quantidade de medalhas ganhas e avaliar a qualidade da predição.\n",
    "\n",
    "Como notamos anteriormente, pelo gráfico de pontos entre GDP e medalhas, que não parecia existir uma corelação nítida, resolvemos restringir mais os dados, utilizando apenas os paises que ganharam pelo menos uma medalha. Também retiramos os pesos utilizados anteriormente (3 pontos para outro, 2 para prata e 1 para bronze), apenas somando o total de medahas ganhas. Apesar das mudanças, a distribuição dos pontos ao longo do gráfico permaceu semelhante.\n",
    "\n",
    "No primeiro gráfico a seguir, infere-se, intuitivamente, que a regressão linear não captura bem a distribuição dos pontos, apesar de que, de certa forma, os dados parecem seguir uma leve tendência ascendente.\n",
    "\n",
    "No segundo gráfico, montamos um modelo de previsão utilizando uma amostra dos dados de 30% para teste e 70% para treino. Os pontos em azul são os resultados reais e os pontos em laranja são a previsão. Através do próprio gráfico, do erro quadrado médio e do R2 observamos que os dados apesar de seguirem uma tendência crescente, não são bem representados pelo modelo de regressão linear simples proposto."
   ]
  },
  {
   "cell_type": "code",
   "execution_count": 6,
   "metadata": {
    "colab": {
     "base_uri": "https://localhost:8080/",
     "height": 283
    },
    "colab_type": "code",
    "id": "N9NrpHXLKRIl",
    "outputId": "9c1a0c25-dae0-4254-9c82-0435f3d2e178"
   },
   "outputs": [
    {
     "data": {
      "image/png": "[encoded data removed]",
      "text/plain": [
       "<Figure size 432x288 with 1 Axes>"
      ]
     },
     "metadata": {
      "needs_background": "light"
     },
     "output_type": "display_data"
    }
   ],
   "source": [
    "paises_gdp = df[df['gold'] + df['silver'] + df['bronze'] >= 1].groupby('country').mean()[['gdp_per_capita']]\n",
    "medalhistas = df[df['gold'] + df['silver'] + df['bronze'] >= 1].groupby('country').sum()\n",
    "medalhas_soma = medalhistas['gold'] + medalhistas['silver'] + medalhistas['bronze']\n",
    "\n",
    "X = np.array(paises_gdp)\n",
    "y = np.array(medalhas_soma)\n",
    "regressao = LinearRegression().fit(X,y)\n",
    "\n",
    "plt.scatter(X, y, alpha=0.6, edgecolors='k')\n",
    "plt.plot(X, regressao.predict(X), color='orange')\n",
    "plt.xlabel('Gdp per capita')\n",
    "plt.ylabel('Número de medalhas ganhas')\n",
    "plt.show()"
   ]
  },
  {
   "cell_type": "code",
   "execution_count": 7,
   "metadata": {
    "colab": {
     "base_uri": "https://localhost:8080/",
     "height": 317
    },
    "colab_type": "code",
    "id": "FD0RlikNyyb7",
    "outputId": "6050395d-9cb0-421b-9fd9-6b694a6ab866"
   },
   "outputs": [
    {
     "data": {
      "image/png": "[encoded data removed]",
      "text/plain": [
       "<Figure size 432x288 with 1 Axes>"
      ]
     },
     "metadata": {
      "needs_background": "light"
     },
     "output_type": "display_data"
    },
    {
     "name": "stdout",
     "output_type": "stream",
     "text": [
      "Erro quadrado médio:  1388.6191074786966\n",
      "Métrica R2:  0.1068062278119083\n"
     ]
    }
   ],
   "source": [
    "X_treino, X_teste, y_treino, y_teste = train_test_split(X, y, test_size=0.3)\n",
    "modelo_linear = LinearRegression().fit(X_treino,y_treino)\n",
    "\n",
    "plt.scatter(X_teste, y_teste, alpha=0.6, edgecolors='k')\n",
    "plt.scatter(X_teste, regressao.predict(X_teste),  alpha=0.6, edgecolors='k', color='orange')\n",
    "plt.xlabel('Gdp per capita')\n",
    "plt.ylabel('Número de medalhas ganhas')\n",
    "plt.show()\n",
    "\n",
    "print('Erro quadrado médio: ', mse(y_teste, modelo_linear.predict(X_teste)))\n",
    "print('Métrica R2: ', modelo_linear.score(X, y))"
   ]
  },
  {
   "cell_type": "markdown",
   "metadata": {
    "colab_type": "text",
    "id": "QMPwIwSMEVJh"
   },
   "source": [
    "## 2. Países com maior PIB tendem a se sair melhor em esportes individuais?"
   ]
  },
  {
   "cell_type": "markdown",
   "metadata": {
    "colab_type": "text",
    "id": "CTILOMYxjZ1_"
   },
   "source": [
    "### Teste de Hipótese 1\n",
    "Para tentar reponder essa pergunta iremos utilizar testes de hipótese. O Teste de hipótese é um procedimento estatístico que permite tomar uma decisão, ou seja, aceitar ou rejeitar a hipótese nula entre a hipótese alternativa, utilizando os dados observados de um determinado experimento. \n",
    "\n",
    "Consideramos para este primeiro teste:\n",
    "* H0 (hipótese nula): Um PIB elevado leva a um melhor desempenho em **pelo menos um** dos esportes individuais mais de 50% das vezes.\n",
    "* H1 (hipótese alternativa): Não é possivel inferir uma relação entre PIB e desempenho em esportes individuais.\n",
    "\n",
    "Inicialmente, consideramos que os países com PIB mais alto, são aqueles que estão acima de 90% dos outros valores do dataset.\n",
    "\n",
    "Vamos verificar se a quantidade de medalhas ganhas por esses países em esportes individuais é superior à média geral de medalhas nesses mesmos esportes."
   ]
  },
  {
   "cell_type": "code",
   "execution_count": 8,
   "metadata": {
    "colab": {
     "base_uri": "https://localhost:8080/",
     "height": 51
    },
    "colab_type": "code",
    "id": "r1ByiuFCG9bN",
    "outputId": "8349a1eb-a660-44e3-b770-d07dd51f8dd0"
   },
   "outputs": [
    {
     "name": "stderr",
     "output_type": "stream",
     "text": [
      "/anaconda3/lib/python3.7/site-packages/ipykernel_launcher.py:9: UserWarning: Boolean Series key will be reindexed to match DataFrame index.\n",
      "  if __name__ == '__main__':\n"
     ]
    }
   ],
   "source": [
    "# soma do total de medalhas\n",
    "df['medals_sum'] = df['gold'] + df['silver'] + df['bronze']\n",
    "\n",
    "# media de medalhas nos esportes individuais\n",
    "media_esportes_individuais = df.groupby('sport').mean()['medals_sum']\n",
    "\n",
    "# medalhas em esportes individuais dos paises com gdp elevado\n",
    "gdp_elevado = np.quantile(df.groupby('country').mean()[['gdp_per_capita']], 0.9)\n",
    "paises_gdp_elevado = df[df['gdp_per_capita'] > gdp_elevado][df['single'] == 1].groupby(['country', 'sport']).sum()['medals_sum']"
   ]
  },
  {
   "cell_type": "markdown",
   "metadata": {
    "colab_type": "text",
    "id": "NiRuSfYUxpIi"
   },
   "source": [
    "Na célula seguinte geramos uma tabela mostrando os países de GDP elevado que satisfazem a condição de estarem acima da media em pelo menos um dos esportes individuais em que eles participam."
   ]
  },
  {
   "cell_type": "code",
   "execution_count": 9,
   "metadata": {
    "colab": {
     "base_uri": "https://localhost:8080/",
     "height": 607
    },
    "colab_type": "code",
    "id": "VQigfTTmR59x",
    "outputId": "262c029e-7c01-4ad5-fc40-46541e888f6c"
   },
   "outputs": [
    {
     "data": {
      "text/html": [
       "<div>\n",
       "<style scoped>\n",
       "    .dataframe tbody tr th:only-of-type {\n",
       "        vertical-align: middle;\n",
       "    }\n",
       "\n",
       "    .dataframe tbody tr th {\n",
       "        vertical-align: top;\n",
       "    }\n",
       "\n",
       "    .dataframe thead th {\n",
       "        text-align: right;\n",
       "    }\n",
       "</style>\n",
       "<table border=\"1\" class=\"dataframe\">\n",
       "  <thead>\n",
       "    <tr style=\"text-align: right;\">\n",
       "      <th></th>\n",
       "      <th>Pais</th>\n",
       "      <th>Melhor_que_a_media</th>\n",
       "    </tr>\n",
       "  </thead>\n",
       "  <tbody>\n",
       "    <tr>\n",
       "      <th>0</th>\n",
       "      <td>Australia</td>\n",
       "      <td>1</td>\n",
       "    </tr>\n",
       "    <tr>\n",
       "      <th>1</th>\n",
       "      <td>Austria</td>\n",
       "      <td>0</td>\n",
       "    </tr>\n",
       "    <tr>\n",
       "      <th>2</th>\n",
       "      <td>Canada</td>\n",
       "      <td>1</td>\n",
       "    </tr>\n",
       "    <tr>\n",
       "      <th>3</th>\n",
       "      <td>Denmark</td>\n",
       "      <td>1</td>\n",
       "    </tr>\n",
       "    <tr>\n",
       "      <th>4</th>\n",
       "      <td>Finland</td>\n",
       "      <td>0</td>\n",
       "    </tr>\n",
       "    <tr>\n",
       "      <th>5</th>\n",
       "      <td>Germany</td>\n",
       "      <td>1</td>\n",
       "    </tr>\n",
       "    <tr>\n",
       "      <th>6</th>\n",
       "      <td>Hong Kong*</td>\n",
       "      <td>0</td>\n",
       "    </tr>\n",
       "    <tr>\n",
       "      <th>7</th>\n",
       "      <td>Iceland</td>\n",
       "      <td>0</td>\n",
       "    </tr>\n",
       "    <tr>\n",
       "      <th>8</th>\n",
       "      <td>Ireland</td>\n",
       "      <td>1</td>\n",
       "    </tr>\n",
       "    <tr>\n",
       "      <th>9</th>\n",
       "      <td>Luxembourg</td>\n",
       "      <td>0</td>\n",
       "    </tr>\n",
       "    <tr>\n",
       "      <th>10</th>\n",
       "      <td>Netherlands</td>\n",
       "      <td>1</td>\n",
       "    </tr>\n",
       "    <tr>\n",
       "      <th>11</th>\n",
       "      <td>Norway</td>\n",
       "      <td>1</td>\n",
       "    </tr>\n",
       "    <tr>\n",
       "      <th>12</th>\n",
       "      <td>Qatar</td>\n",
       "      <td>0</td>\n",
       "    </tr>\n",
       "    <tr>\n",
       "      <th>13</th>\n",
       "      <td>Singapore</td>\n",
       "      <td>0</td>\n",
       "    </tr>\n",
       "    <tr>\n",
       "      <th>14</th>\n",
       "      <td>Sweden</td>\n",
       "      <td>1</td>\n",
       "    </tr>\n",
       "    <tr>\n",
       "      <th>15</th>\n",
       "      <td>Switzerland</td>\n",
       "      <td>1</td>\n",
       "    </tr>\n",
       "    <tr>\n",
       "      <th>16</th>\n",
       "      <td>United Kingdom</td>\n",
       "      <td>1</td>\n",
       "    </tr>\n",
       "    <tr>\n",
       "      <th>17</th>\n",
       "      <td>United States</td>\n",
       "      <td>1</td>\n",
       "    </tr>\n",
       "  </tbody>\n",
       "</table>\n",
       "</div>"
      ],
      "text/plain": [
       "              Pais  Melhor_que_a_media\n",
       "0        Australia                   1\n",
       "1          Austria                   0\n",
       "2           Canada                   1\n",
       "3          Denmark                   1\n",
       "4          Finland                   0\n",
       "5          Germany                   1\n",
       "6       Hong Kong*                   0\n",
       "7          Iceland                   0\n",
       "8          Ireland                   1\n",
       "9       Luxembourg                   0\n",
       "10     Netherlands                   1\n",
       "11          Norway                   1\n",
       "12           Qatar                   0\n",
       "13       Singapore                   0\n",
       "14          Sweden                   1\n",
       "15     Switzerland                   1\n",
       "16  United Kingdom                   1\n",
       "17   United States                   1"
      ]
     },
     "execution_count": 9,
     "metadata": {},
     "output_type": "execute_result"
    }
   ],
   "source": [
    "# guarda se o pais eh melhor que a media em pelo menos metade dos esportes individuais que ele participa\n",
    "tabela_paises_esportes_individuais = pd.DataFrame()\n",
    "tabela_paises_esportes_individuais['Pais'] = paises_gdp_elevado.index.levels[0]\n",
    "tabela_paises_esportes_individuais['Melhor_que_a_media'] = 0\n",
    "\n",
    "for country in paises_gdp_elevado.index.levels[0]:\n",
    "    acima_da_media = 0\n",
    "    for sport in paises_gdp_elevado[country].index:\n",
    "        if paises_gdp_elevado[country][sport] > media_esportes_individuais[sport]:\n",
    "            acima_da_media += 1\n",
    "    if acima_da_media > 1:\n",
    "        tabela_paises_esportes_individuais['Melhor_que_a_media'][tabela_paises_esportes_individuais['Pais'] == country] = 1\n",
    "\n",
    "tabela_paises_esportes_individuais"
   ]
  },
  {
   "cell_type": "markdown",
   "metadata": {
    "colab_type": "text",
    "id": "3NwR4ebMyUdq"
   },
   "source": [
    "Em seguida, executamos um bootstrap com 10000 repetições para calcular a probabilidade de um país, selecionado ao acaso, ser melhor em pelo menos um dos esportes individuais que ele participa."
   ]
  },
  {
   "cell_type": "code",
   "execution_count": 10,
   "metadata": {
    "colab": {
     "base_uri": "https://localhost:8080/",
     "height": 34
    },
    "colab_type": "code",
    "id": "8WEMP6Cujkrl",
    "outputId": "e75e166d-af0e-4693-a0e0-c85d77254fbb"
   },
   "outputs": [
    {
     "name": "stdout",
     "output_type": "stream",
     "text": [
      "0.613\n"
     ]
    }
   ],
   "source": [
    "repeticoes = 10000\n",
    "resultado = 0\n",
    "\n",
    "for i in range(repeticoes):\n",
    "    pais_aleatorio = np.random.randint(0, 18)\n",
    "    if tabela_paises_esportes_individuais.loc[pais_aleatorio]['Melhor_que_a_media'] == 1:\n",
    "        resultado += 1\n",
    "\n",
    "print(resultado/repeticoes)"
   ]
  },
  {
   "cell_type": "markdown",
   "metadata": {
    "colab_type": "text",
    "id": "Fk8gppx2zUIn"
   },
   "source": [
    "Como visto, o resultado retornado gira em cerca de 60%. Com base nesse resultado, aceitamos a hipótese nula (H0), já que a probabilidade retornada está dentro da nossa hipótese proposta."
   ]
  },
  {
   "cell_type": "markdown",
   "metadata": {
    "colab_type": "text",
    "id": "c29eQ5iFrQkf"
   },
   "source": [
    "### Teste de Hipótese 2\n",
    "\n",
    "Nesse segundo teste, queremos restringir um pouco mais as hipóteses e verificar se os países de GDP alto estão acima da média em pelo menos 50% dos esportes individuais que eles participam.\n",
    "\n",
    "Utilizamos as seguintes hipóteses:\n",
    "* H0 (hipótese nula): Um PIB elevado leva a um melhor desempenho em **pelo menos metade** dos esportes individuais que o país participa mais de 50% das vezes.\n",
    "* H1 (hipótese alternativa): Não é possivel inferir uma relação entre PIB e desempenho em esportes individuais.\n",
    "\n"
   ]
  },
  {
   "cell_type": "code",
   "execution_count": 11,
   "metadata": {
    "colab": {
     "base_uri": "https://localhost:8080/",
     "height": 607
    },
    "colab_type": "code",
    "id": "UO1BOo_5rz9z",
    "outputId": "7332aa13-929a-4485-8a42-527541030f46"
   },
   "outputs": [
    {
     "data": {
      "text/html": [
       "<div>\n",
       "<style scoped>\n",
       "    .dataframe tbody tr th:only-of-type {\n",
       "        vertical-align: middle;\n",
       "    }\n",
       "\n",
       "    .dataframe tbody tr th {\n",
       "        vertical-align: top;\n",
       "    }\n",
       "\n",
       "    .dataframe thead th {\n",
       "        text-align: right;\n",
       "    }\n",
       "</style>\n",
       "<table border=\"1\" class=\"dataframe\">\n",
       "  <thead>\n",
       "    <tr style=\"text-align: right;\">\n",
       "      <th></th>\n",
       "      <th>Pais</th>\n",
       "      <th>Melhor_que_a_media</th>\n",
       "    </tr>\n",
       "  </thead>\n",
       "  <tbody>\n",
       "    <tr>\n",
       "      <th>0</th>\n",
       "      <td>Australia</td>\n",
       "      <td>1</td>\n",
       "    </tr>\n",
       "    <tr>\n",
       "      <th>1</th>\n",
       "      <td>Austria</td>\n",
       "      <td>0</td>\n",
       "    </tr>\n",
       "    <tr>\n",
       "      <th>2</th>\n",
       "      <td>Canada</td>\n",
       "      <td>0</td>\n",
       "    </tr>\n",
       "    <tr>\n",
       "      <th>3</th>\n",
       "      <td>Denmark</td>\n",
       "      <td>1</td>\n",
       "    </tr>\n",
       "    <tr>\n",
       "      <th>4</th>\n",
       "      <td>Finland</td>\n",
       "      <td>0</td>\n",
       "    </tr>\n",
       "    <tr>\n",
       "      <th>5</th>\n",
       "      <td>Germany</td>\n",
       "      <td>1</td>\n",
       "    </tr>\n",
       "    <tr>\n",
       "      <th>6</th>\n",
       "      <td>Hong Kong*</td>\n",
       "      <td>0</td>\n",
       "    </tr>\n",
       "    <tr>\n",
       "      <th>7</th>\n",
       "      <td>Iceland</td>\n",
       "      <td>0</td>\n",
       "    </tr>\n",
       "    <tr>\n",
       "      <th>8</th>\n",
       "      <td>Ireland</td>\n",
       "      <td>0</td>\n",
       "    </tr>\n",
       "    <tr>\n",
       "      <th>9</th>\n",
       "      <td>Luxembourg</td>\n",
       "      <td>0</td>\n",
       "    </tr>\n",
       "    <tr>\n",
       "      <th>10</th>\n",
       "      <td>Netherlands</td>\n",
       "      <td>0</td>\n",
       "    </tr>\n",
       "    <tr>\n",
       "      <th>11</th>\n",
       "      <td>Norway</td>\n",
       "      <td>0</td>\n",
       "    </tr>\n",
       "    <tr>\n",
       "      <th>12</th>\n",
       "      <td>Qatar</td>\n",
       "      <td>0</td>\n",
       "    </tr>\n",
       "    <tr>\n",
       "      <th>13</th>\n",
       "      <td>Singapore</td>\n",
       "      <td>0</td>\n",
       "    </tr>\n",
       "    <tr>\n",
       "      <th>14</th>\n",
       "      <td>Sweden</td>\n",
       "      <td>0</td>\n",
       "    </tr>\n",
       "    <tr>\n",
       "      <th>15</th>\n",
       "      <td>Switzerland</td>\n",
       "      <td>0</td>\n",
       "    </tr>\n",
       "    <tr>\n",
       "      <th>16</th>\n",
       "      <td>United Kingdom</td>\n",
       "      <td>1</td>\n",
       "    </tr>\n",
       "    <tr>\n",
       "      <th>17</th>\n",
       "      <td>United States</td>\n",
       "      <td>1</td>\n",
       "    </tr>\n",
       "  </tbody>\n",
       "</table>\n",
       "</div>"
      ],
      "text/plain": [
       "              Pais  Melhor_que_a_media\n",
       "0        Australia                   1\n",
       "1          Austria                   0\n",
       "2           Canada                   0\n",
       "3          Denmark                   1\n",
       "4          Finland                   0\n",
       "5          Germany                   1\n",
       "6       Hong Kong*                   0\n",
       "7          Iceland                   0\n",
       "8          Ireland                   0\n",
       "9       Luxembourg                   0\n",
       "10     Netherlands                   0\n",
       "11          Norway                   0\n",
       "12           Qatar                   0\n",
       "13       Singapore                   0\n",
       "14          Sweden                   0\n",
       "15     Switzerland                   0\n",
       "16  United Kingdom                   1\n",
       "17   United States                   1"
      ]
     },
     "execution_count": 11,
     "metadata": {},
     "output_type": "execute_result"
    }
   ],
   "source": [
    "# guarda se o pais eh melhor que a media em pelo menos metade dos esportes individuais que ele participa\n",
    "tabela_paises_esportes_individuais = pd.DataFrame()\n",
    "tabela_paises_esportes_individuais['Pais'] = paises_gdp_elevado.index.levels[0]\n",
    "tabela_paises_esportes_individuais['Melhor_que_a_media'] = 0\n",
    "\n",
    "for country in paises_gdp_elevado.index.levels[0]:\n",
    "    acima_da_media = 0\n",
    "    for sport in paises_gdp_elevado[country].index:\n",
    "        if paises_gdp_elevado[country][sport] > media_esportes_individuais[sport]:\n",
    "            acima_da_media += 1\n",
    "    if acima_da_media / len(paises_gdp_elevado[country].index) >= 0.5:\n",
    "        tabela_paises_esportes_individuais['Melhor_que_a_media'][tabela_paises_esportes_individuais['Pais'] == country] = 1\n",
    "\n",
    "tabela_paises_esportes_individuais"
   ]
  },
  {
   "cell_type": "code",
   "execution_count": 12,
   "metadata": {
    "colab": {
     "base_uri": "https://localhost:8080/",
     "height": 34
    },
    "colab_type": "code",
    "id": "0NO5Fc9_ts7Z",
    "outputId": "b359def3-a2a2-4a4d-9300-a91319c800aa"
   },
   "outputs": [
    {
     "name": "stdout",
     "output_type": "stream",
     "text": [
      "0.2856\n"
     ]
    }
   ],
   "source": [
    "repeticoes = 10000\n",
    "resultado = 0\n",
    "\n",
    "for i in range(repeticoes):\n",
    "    pais_aleatorio = np.random.randint(0, 18)\n",
    "    if tabela_paises_esportes_individuais.loc[pais_aleatorio]['Melhor_que_a_media'] == 1:\n",
    "        resultado += 1\n",
    "\n",
    "print(resultado/repeticoes)"
   ]
  },
  {
   "cell_type": "markdown",
   "metadata": {
    "colab_type": "text",
    "id": "DAq9m9qT2gNq"
   },
   "source": [
    "Nesse caso, o resultado retornando gira em torno de 27%, abaixo dos 50% da nossa hipótese nula. Logo, rejeitamos H0."
   ]
  },
  {
   "cell_type": "markdown",
   "metadata": {
    "colab_type": "text",
    "id": "i0LOyVwxclWq"
   },
   "source": [
    "## 3. A idade de um atleta influencia na performance em esportes de alto rendimento?\n",
    "### k-Nearest Neighbor (kNN)\n",
    "\n",
    "Nessa etapa, vamos utilizar a idade de cada atleta que foi medalhista nos jogos olímpicos e a quantidade de medalhas ganhas para tentar classificá-lo em um dos clusters: Ouro, Prata e Bronze.\n",
    "\n",
    "Pelo gráfico plotado na célula a seguir, não conseguimos distinguir um padrão claro que relacione a idade ao tipo de medalha ganhada pelo atleta."
   ]
  },
  {
   "cell_type": "code",
   "execution_count": 13,
   "metadata": {
    "colab": {
     "base_uri": "https://localhost:8080/",
     "height": 283
    },
    "colab_type": "code",
    "id": "C3gb_g807aQV",
    "outputId": "0a89eb4d-5d79-4893-a975-390ff4412193"
   },
   "outputs": [
    {
     "data": {
      "image/png": "[encoded data removed]",
      "text/plain": [
       "<Figure size 432x288 with 1 Axes>"
      ]
     },
     "metadata": {
      "needs_background": "light"
     },
     "output_type": "display_data"
    }
   ],
   "source": [
    "medalhistas = df[['sex', 'age', 'gold', 'silver', 'bronze', 'medals_sum']][df['medals_sum'] >= 1]\n",
    "medalhistas['cluster'] = 'none'\n",
    "\n",
    "ouro = medalhistas.copy()\n",
    "prata = medalhistas.copy()\n",
    "bronze = medalhistas.copy()\n",
    "ouro['cluster'][ouro['gold'] >= 1] = 'gold'\n",
    "prata['cluster'][prata['silver'] >= 1] = 'silver' \n",
    "bronze['cluster'][bronze['bronze'] >= 1] = 'bronze'\n",
    "\n",
    "medalhistas['cluster'] = ouro['cluster']\n",
    "medalhistas['cluster'][medalhistas['cluster'] == 'none'] = prata['cluster']\n",
    "medalhistas['cluster'][medalhistas['cluster'] == 'none'] = bronze['cluster']\n",
    "\n",
    "x = medalhistas['age']\n",
    "y = medalhistas['cluster']\n",
    "plt.scatter(x, y, alpha=0.6, edgecolors='k', s=30)\n",
    "plt.xlabel('Idade')\n",
    "plt.ylabel('Melhor medalha ganha')\n",
    "plt.show()"
   ]
  },
  {
   "cell_type": "markdown",
   "metadata": {
    "colab_type": "text",
    "id": "i8W0Hsn3lyuQ"
   },
   "source": [
    "Para uma visualização melhor da relação que estamos avaliando pelo kNN, criamos esse segundo gráfico que relaciona duas variáveis - idade e quantidade total de medalhas ganhas - com a maior medalha que o atleta ganhou - ouro, prata ou bronze. As cores dos pontos no gráfico são sugestivas e indicam o tipo de medalha."
   ]
  },
  {
   "cell_type": "code",
   "execution_count": 14,
   "metadata": {
    "colab": {
     "base_uri": "https://localhost:8080/",
     "height": 300
    },
    "colab_type": "code",
    "id": "-UBpoYKNS1eM",
    "outputId": "bae09487-7c7b-4f24-c117-9042859e759f"
   },
   "outputs": [
    {
     "data": {
      "image/png": "[encoded data removed]",
      "text/plain": [
       "<Figure size 432x288 with 1 Axes>"
      ]
     },
     "metadata": {
      "needs_background": "light"
     },
     "output_type": "display_data"
    },
    {
     "data": {
      "text/plain": [
       "600"
      ]
     },
     "execution_count": 14,
     "metadata": {},
     "output_type": "execute_result"
    }
   ],
   "source": [
    "med_ouro = medalhistas[medalhistas['cluster'] == 'gold']\n",
    "med_prata = medalhistas[medalhistas['cluster'] == 'silver']\n",
    "med_bronze = medalhistas[medalhistas['cluster'] == 'bronze']\n",
    "\n",
    "ruido_ouro = np.random.normal(0, 0.1, size=med_ouro.shape[0])\n",
    "ruido_prata = np.random.normal(0, 0.1, size=med_prata.shape[0])\n",
    "ruido_bronze = np.random.normal(0, 0.1, size=med_bronze.shape[0])\n",
    "\n",
    "plt.scatter(med_ouro['age'] + ruido_ouro, med_ouro['medals_sum'] + ruido_ouro, edgecolors='k', s=30, color='gold', alpha=0.6)\n",
    "plt.scatter(med_prata['age'] + ruido_prata, med_prata['medals_sum'] + ruido_prata, edgecolors='k', s=30, color='silver', alpha=0.6)\n",
    "plt.scatter(med_bronze['age'] + ruido_bronze, med_bronze['medals_sum'] + ruido_bronze, edgecolors='k', s=30, color='peru', alpha=0.6)\n",
    "plt.xlabel('Idade')\n",
    "plt.ylabel('Quantidade total de medalhas ganhas')\n",
    "plt.show()\n",
    "\n",
    "med_bronze.shape[0]"
   ]
  },
  {
   "cell_type": "markdown",
   "metadata": {
    "colab_type": "text",
    "id": "e_f-97tPn8PQ"
   },
   "source": [
    "Por fim, criamos um modelo de kNN para tentar prever os clusters de medalhas. Utilizamos 30% para teste e 70% para treino e um k = 7.\n",
    "\n",
    "Como podemos ver pela matriz de confusão e pelos índices de precisão, revocação e F1 medidos,  o modelo não se adequa muito bem aos dados, gerando muitos falsos positivos e falsos negativos."
   ]
  },
  {
   "cell_type": "code",
   "execution_count": 15,
   "metadata": {
    "colab": {
     "base_uri": "https://localhost:8080/",
     "height": 187
    },
    "colab_type": "code",
    "id": "itxNkH5hbvGX",
    "outputId": "477f54e6-d84a-47ce-ef5c-fc8e639033ca"
   },
   "outputs": [
    {
     "name": "stdout",
     "output_type": "stream",
     "text": [
      "              precision    recall  f1-score   support\n",
      "\n",
      "      bronze       0.34      0.53      0.41       172\n",
      "        gold       0.31      0.21      0.25       167\n",
      "      silver       0.33      0.25      0.28       186\n",
      "\n",
      "   micro avg       0.33      0.33      0.33       525\n",
      "   macro avg       0.33      0.33      0.32       525\n",
      "weighted avg       0.33      0.33      0.32       525\n",
      "\n"
     ]
    }
   ],
   "source": [
    "# kNN\n",
    "X = np.array(medalhistas[['age', 'medals_sum']])\n",
    "y = np.array(medalhistas['cluster'])\n",
    "\n",
    "X_treino, X_teste, y_treino, y_teste = train_test_split(X, y, test_size=0.3)\n",
    "modelo_knn = KNeighborsClassifier(n_neighbors=7).fit(X_treino, y_treino)\n",
    "\n",
    "print(classification_report(y_teste, modelo_knn.predict(X_teste)))"
   ]
  },
  {
   "cell_type": "code",
   "execution_count": 16,
   "metadata": {
    "colab": {
     "base_uri": "https://localhost:8080/",
     "height": 337
    },
    "colab_type": "code",
    "id": "BMhw96iuhFUw",
    "outputId": "33c49764-b077-44c1-e5cc-97edbf992d45"
   },
   "outputs": [
    {
     "data": {
      "text/plain": [
       "([<matplotlib.axis.YTick at 0x1a20efb7f0>,\n",
       "  <matplotlib.axis.YTick at 0x1a20ee4d68>,\n",
       "  <matplotlib.axis.YTick at 0x1a20fd49e8>],\n",
       " <a list of 3 Text yticklabel objects>)"
      ]
     },
     "execution_count": 16,
     "metadata": {},
     "output_type": "execute_result"
    },
    {
     "data": {
      "image/png": "[encoded data removed]",
      "text/plain": [
       "<Figure size 432x288 with 1 Axes>"
      ]
     },
     "metadata": {
      "needs_background": "light"
     },
     "output_type": "display_data"
    }
   ],
   "source": [
    "plt.imshow(confusion_matrix(y_teste, modelo_knn.predict(X_teste)))\n",
    "plt.xticks([0,1,2])\n",
    "plt.yticks([0,1,2])"
   ]
  },
  {
   "cell_type": "markdown",
   "metadata": {
    "colab_type": "text",
    "id": "13PG4DnLpWvm"
   },
   "source": [
    "# Conclusão\n",
    "\n",
    "A seguir apresentamos as respostas evidencias para nossas perguntas propostas no início deste trabalho.\n",
    "\n",
    "### 1. Existe uma relação entre o PIB de um país e a quantidade de medalhas ganhas?\n",
    "A partir do modelo de regressão criado não conseguimos ajustar os dados de uma boa maneira. Mas podemos perceber pela reta da regressão e pelo fator R2 que existe uma relação crescente fraca entre o PIB e o número de medalhas ganhas, mas nada muito significativo. \n",
    "\n",
    "Talvez, esta relação possa ser melhor explicada utilizando outro modelo.\n",
    "\n",
    "### 2. Países com maior PIB tendem a se sair melhor em esportes individuais?\n",
    "Pelo primeiro teste de hipótese levantado, percebemos que 60% das vezes os países com PIB mais alto estão acima da média em pelo menos um esporte individual, em relação a outros países. Talvez existam relações entre o país e esportes espcíficos incentivados, que não são representados no dataset utilizado nesse trabalho.\n",
    "\n",
    "Pelo segundo teste de hipótese, vimos que dificilmente os países com PIB mais alto são bons em vários esportes individuais ao mesmo tempo. Isso é mais uma evidência de que outros fatores como o incentivo a esportes específicos por país deve ser levado em consideração.\n",
    "\n",
    "No geral, podemos dizer que sim, países com maior pib costumam se sair melhor em esportes individuais, mas é necessário um estudo mais aprofundado, utilizando outras variáveis para se chegar a uma conclusão melhor.\n",
    "\n",
    "### 3. A idade de um atleta influencia na performance em esportes de alto rendimento?\n",
    "Não podemos afirmar essa pergunta. Conforme o primeiro gráfico gerado, que analisa essa relação, vemos que a quantidade de medalhas de ouro, prata e bronze é bem distribuída. Mas, notamos que os atletas que ganharam essas medalhas, geralmente estão numa faixa de idade entre 20 e 40 anos, o que não é muito conclusivo, já que a maioria dos atletas estão dentro da faixa."
   ]
  }
 ],
 "metadata": {
  "colab": {
   "collapsed_sections": [
    "zyZQy0RfZYHi",
    "0hCof11qG6AC",
    "QMPwIwSMEVJh"
   ],
   "name": "TP_ICD.ipynb",
   "provenance": [],
   "version": "0.3.2"
  },
  "kernelspec": {
   "display_name": "Python 3",
   "language": "python",
   "name": "python3"
  },
  "language_info": {
   "codemirror_mode": {
    "name": "ipython",
    "version": 3
   },
   "file_extension": ".py",
   "mimetype": "text/x-python",
   "name": "python",
   "nbconvert_exporter": "python",
   "pygments_lexer": "ipython3",
   "version": "3.7.1"
  }
 },
 "nbformat": 4,
 "nbformat_minor": 1
}
